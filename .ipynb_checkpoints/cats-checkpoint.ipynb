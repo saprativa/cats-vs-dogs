{
 "cells": [
  {
   "cell_type": "markdown",
   "id": "431162ec",
   "metadata": {},
   "source": [
    "# Cats vs Dogs Classifier"
   ]
  },
  {
   "cell_type": "markdown",
   "id": "48eeb99e",
   "metadata": {},
   "source": [
    "- Upload any picture of either a cat or a dog and let the AI classifier decide.\n",
    "- Please be patient. The model has been optimized for accuracy, not for speed.\n",
    "- For fun you may even upload your own picture to see whether you are more similar to a cat or a dog."
   ]
  },
  {
   "cell_type": "code",
   "execution_count": null,
   "id": "50a0517f",
   "metadata": {},
   "outputs": [],
   "source": [
    "from fastai.vision.all import *\n",
    "from fastai.vision.widgets import *"
   ]
  },
  {
   "cell_type": "code",
   "execution_count": null,
   "id": "3bba7a12",
   "metadata": {},
   "outputs": [],
   "source": [
    "def is_cat(x): return x[0].isupper()"
   ]
  },
  {
   "cell_type": "code",
   "execution_count": null,
   "id": "789bdee3",
   "metadata": {},
   "outputs": [],
   "source": [
    "path = Path()\n",
    "learn_inf = load_learner(path/'export.pkl', cpu=True)"
   ]
  },
  {
   "cell_type": "code",
   "execution_count": null,
   "id": "02fdcc0d",
   "metadata": {},
   "outputs": [],
   "source": [
    "btn_upload = widgets.FileUpload()\n",
    "out_pl = widgets.Output()\n",
    "lbl_pred = widgets.Label()"
   ]
  },
  {
   "cell_type": "code",
   "execution_count": null,
   "id": "25680d01",
   "metadata": {},
   "outputs": [],
   "source": [
    "def on_data_change(change):\n",
    "    lbl_pred.value = ''\n",
    "    img = PILImage.create(btn_upload.data[-1])\n",
    "    out_pl.clear_output()\n",
    "    with out_pl: display(img.to_thumb(128,128))\n",
    "    pred,pred_idx,probs = learn_inf.predict(img)\n",
    "    if(pred == 'True'):\n",
    "      lbl_pred.value = f'Prediction: Cat; Probability: {probs[pred_idx]:.04f}'\n",
    "    else:\n",
    "      lbl_pred.value = f'Prediction: Dog; Probability: {probs[pred_idx]:.04f}'\n",
    "\n",
    "btn_upload.observe(on_data_change, names=['data'])"
   ]
  },
  {
   "cell_type": "code",
   "execution_count": null,
   "id": "726ae960",
   "metadata": {},
   "outputs": [],
   "source": [
    "display(VBox([widgets.Label('Upload any cat or dog pic by clicking the upload button below:'), btn_upload, out_pl, lbl_pred]))"
   ]
  }
 ],
 "metadata": {
  "kernelspec": {
   "display_name": "Python 3 (ipykernel)",
   "language": "python",
   "name": "python3"
  },
  "language_info": {
   "codemirror_mode": {
    "name": "ipython",
    "version": 3
   },
   "file_extension": ".py",
   "mimetype": "text/x-python",
   "name": "python",
   "nbconvert_exporter": "python",
   "pygments_lexer": "ipython3",
   "version": "3.8.8"
  }
 },
 "nbformat": 4,
 "nbformat_minor": 5
}
